{
 "cells": [
  {
   "cell_type": "markdown",
   "metadata": {},
   "source": [
    "# b) For the same Dataset in (a) apply One-Versus-Rest SVM and classify.\n"
   ]
  },
  {
   "cell_type": "markdown",
   "metadata": {
    "id": "IN8tTYIzWnkd"
   },
   "source": [
    "### NEWS Headline Classification using Google Embedding \n",
    "- pre-trained sentence encoders by Google, ready to convert a sentence to a vector representation without any additional training, in a way that captures the semantic similarity between sentences.\n",
    "<img src=\"data:image/png;base64,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\">"
   ]
  },
  {
   "cell_type": "code",
   "execution_count": null,
   "metadata": {
    "colab": {
     "base_uri": "https://localhost:8080/"
    },
    "id": "LJkDbWqe7Xb3",
    "outputId": "35be29f9-dedc-4f81-d484-85c6f6cc3387"
   },
   "outputs": [],
   "source": [
    "!pip install tensorflow-text\n",
    "# installing requried libraries"
   ]
  },
  {
   "cell_type": "markdown",
   "metadata": {},
   "source": [
    "### import all the necessary libraries"
   ]
  },
  {
   "cell_type": "code",
   "execution_count": 3,
   "metadata": {
    "id": "9N75WnAA7Xb0"
   },
   "outputs": [],
   "source": [
    "import pandas as pd\n",
    "import  numpy as np\n",
    "import matplotlib.pyplot as plt\n",
    "import seaborn as sb\n",
    "\n",
    "from sklearn.multiclass import OneVsRestClassifier\n",
    "from sklearn.utils import shuffle\n",
    "from sklearn.svm import SVC\n",
    "from sklearn import model_selection\n",
    "from sklearn.model_selection import train_test_split\n",
    "\n",
    "import tensorflow as tf\n",
    "import tensorflow_hub as hub\n",
    "import tensorflow_text\n",
    "\n",
    "from tqdm import tqdm\n",
    "import re\n"
   ]
  },
  {
   "cell_type": "markdown",
   "metadata": {},
   "source": [
    "### import Dataset using Pandas library"
   ]
  },
  {
   "cell_type": "code",
   "execution_count": 5,
   "metadata": {
    "colab": {
     "base_uri": "https://localhost:8080/",
     "height": 289
    },
    "id": "TtzByP9I7Xb3",
    "outputId": "f064c8e8-84d8-4881-cd84-ae1e204d393b"
   },
   "outputs": [
    {
     "data": {
      "text/html": [
       "<div>\n",
       "<style scoped>\n",
       "    .dataframe tbody tr th:only-of-type {\n",
       "        vertical-align: middle;\n",
       "    }\n",
       "\n",
       "    .dataframe tbody tr th {\n",
       "        vertical-align: top;\n",
       "    }\n",
       "\n",
       "    .dataframe thead th {\n",
       "        text-align: right;\n",
       "    }\n",
       "</style>\n",
       "<table border=\"1\" class=\"dataframe\">\n",
       "  <thead>\n",
       "    <tr style=\"text-align: right;\">\n",
       "      <th></th>\n",
       "      <th>Unnamed: 0</th>\n",
       "      <th>headline</th>\n",
       "      <th>category</th>\n",
       "      <th>NEWs_length</th>\n",
       "      <th>Text_parsed</th>\n",
       "    </tr>\n",
       "  </thead>\n",
       "  <tbody>\n",
       "    <tr>\n",
       "      <th>0</th>\n",
       "      <td>46889</td>\n",
       "      <td>How Do Industry Experts Evaluate Credit Card R...</td>\n",
       "      <td>2</td>\n",
       "      <td>53</td>\n",
       "      <td>industry experts evaluate credit card rewards</td>\n",
       "    </tr>\n",
       "    <tr>\n",
       "      <th>1</th>\n",
       "      <td>32687</td>\n",
       "      <td>Ex-49er Dana Stubblefield charged with raping ...</td>\n",
       "      <td>5</td>\n",
       "      <td>83</td>\n",
       "      <td>ex49er dana stubblefield charged raping disabl...</td>\n",
       "    </tr>\n",
       "    <tr>\n",
       "      <th>2</th>\n",
       "      <td>29434</td>\n",
       "      <td>Chris Hemsworth May Be The Most Swoon-Worthy H...</td>\n",
       "      <td>1</td>\n",
       "      <td>64</td>\n",
       "      <td>chris hemsworth may swoonworthy husband time</td>\n",
       "    </tr>\n",
       "    <tr>\n",
       "      <th>3</th>\n",
       "      <td>6093</td>\n",
       "      <td>The Insurrectionists</td>\n",
       "      <td>4</td>\n",
       "      <td>20</td>\n",
       "      <td>insurrectionists</td>\n",
       "    </tr>\n",
       "    <tr>\n",
       "      <th>4</th>\n",
       "      <td>40426</td>\n",
       "      <td>Harrison Ford Gives 'Star Wars' Fans The Best ...</td>\n",
       "      <td>1</td>\n",
       "      <td>59</td>\n",
       "      <td>harrison ford gives star wars fans best surpri...</td>\n",
       "    </tr>\n",
       "  </tbody>\n",
       "</table>\n",
       "</div>"
      ],
      "text/plain": [
       "   Unnamed: 0  ...                                        Text_parsed\n",
       "0       46889  ...      industry experts evaluate credit card rewards\n",
       "1       32687  ...  ex49er dana stubblefield charged raping disabl...\n",
       "2       29434  ...       chris hemsworth may swoonworthy husband time\n",
       "3        6093  ...                                   insurrectionists\n",
       "4       40426  ...  harrison ford gives star wars fans best surpri...\n",
       "\n",
       "[5 rows x 5 columns]"
      ]
     },
     "execution_count": 5,
     "metadata": {
      "tags": []
     },
     "output_type": "execute_result"
    }
   ],
   "source": [
    "df=pd.read_csv('/processed_data')\n",
    "df.head()"
   ]
  },
  {
   "cell_type": "code",
   "execution_count": 6,
   "metadata": {
    "id": "G5Qc-ebq7Xb4"
   },
   "outputs": [],
   "source": [
    "df.drop('Unnamed: 0',axis=1,inplace=True)"
   ]
  },
  {
   "cell_type": "code",
   "execution_count": 7,
   "metadata": {
    "colab": {
     "base_uri": "https://localhost:8080/",
     "height": 237
    },
    "id": "Wb6M74AD7Xb4",
    "outputId": "799a552e-1804-4858-aacd-4510ce0b580e"
   },
   "outputs": [
    {
     "data": {
      "text/html": [
       "<div>\n",
       "<style scoped>\n",
       "    .dataframe tbody tr th:only-of-type {\n",
       "        vertical-align: middle;\n",
       "    }\n",
       "\n",
       "    .dataframe tbody tr th {\n",
       "        vertical-align: top;\n",
       "    }\n",
       "\n",
       "    .dataframe thead th {\n",
       "        text-align: right;\n",
       "    }\n",
       "</style>\n",
       "<table border=\"1\" class=\"dataframe\">\n",
       "  <thead>\n",
       "    <tr style=\"text-align: right;\">\n",
       "      <th></th>\n",
       "      <th>headline</th>\n",
       "      <th>category</th>\n",
       "      <th>NEWs_length</th>\n",
       "      <th>Text_parsed</th>\n",
       "    </tr>\n",
       "  </thead>\n",
       "  <tbody>\n",
       "    <tr>\n",
       "      <th>0</th>\n",
       "      <td>How Do Industry Experts Evaluate Credit Card R...</td>\n",
       "      <td>2</td>\n",
       "      <td>53</td>\n",
       "      <td>industry experts evaluate credit card rewards</td>\n",
       "    </tr>\n",
       "    <tr>\n",
       "      <th>1</th>\n",
       "      <td>Ex-49er Dana Stubblefield charged with raping ...</td>\n",
       "      <td>5</td>\n",
       "      <td>83</td>\n",
       "      <td>ex49er dana stubblefield charged raping disabl...</td>\n",
       "    </tr>\n",
       "    <tr>\n",
       "      <th>2</th>\n",
       "      <td>Chris Hemsworth May Be The Most Swoon-Worthy H...</td>\n",
       "      <td>1</td>\n",
       "      <td>64</td>\n",
       "      <td>chris hemsworth may swoonworthy husband time</td>\n",
       "    </tr>\n",
       "    <tr>\n",
       "      <th>3</th>\n",
       "      <td>The Insurrectionists</td>\n",
       "      <td>4</td>\n",
       "      <td>20</td>\n",
       "      <td>insurrectionists</td>\n",
       "    </tr>\n",
       "    <tr>\n",
       "      <th>4</th>\n",
       "      <td>Harrison Ford Gives 'Star Wars' Fans The Best ...</td>\n",
       "      <td>1</td>\n",
       "      <td>59</td>\n",
       "      <td>harrison ford gives star wars fans best surpri...</td>\n",
       "    </tr>\n",
       "  </tbody>\n",
       "</table>\n",
       "</div>"
      ],
      "text/plain": [
       "                                            headline  ...                                        Text_parsed\n",
       "0  How Do Industry Experts Evaluate Credit Card R...  ...      industry experts evaluate credit card rewards\n",
       "1  Ex-49er Dana Stubblefield charged with raping ...  ...  ex49er dana stubblefield charged raping disabl...\n",
       "2  Chris Hemsworth May Be The Most Swoon-Worthy H...  ...       chris hemsworth may swoonworthy husband time\n",
       "3                               The Insurrectionists  ...                                   insurrectionists\n",
       "4  Harrison Ford Gives 'Star Wars' Fans The Best ...  ...  harrison ford gives star wars fans best surpri...\n",
       "\n",
       "[5 rows x 4 columns]"
      ]
     },
     "execution_count": 7,
     "metadata": {
      "tags": []
     },
     "output_type": "execute_result"
    }
   ],
   "source": [
    "df.head()"
   ]
  },
  {
   "cell_type": "markdown",
   "metadata": {
    "id": "dLRiv5Z07Xb5"
   },
   "source": [
    "### Data Cleaning"
   ]
  },
  {
   "cell_type": "code",
   "execution_count": 8,
   "metadata": {
    "id": "irgxmkFC7Xb5"
   },
   "outputs": [],
   "source": [
    "def clean(text):\n",
    "    text = re.sub(r\"http\\S+\", \" \", text) # remove urls\n",
    "    text = re.sub(r\"RT \", \" \", text) # remove rt\n",
    "    text = re.sub(r\"[^a-zA-Z\\'\\.\\,\\d\\s]\", \" \", text) # remove special character except # @ . ,\n",
    "    text = re.sub(r\"[0-9]\", \" \", text) # remove number\n",
    "    text = re.sub(r'\\t', ' ', text) # remove tabs\n",
    "    text = re.sub(r'\\n', ' ', text) # remove line jump\n",
    "    text = re.sub(r\"\\s+\", \" \", text) # remove extra white space\n",
    "    text = text.strip()\n",
    "    return text"
   ]
  },
  {
   "cell_type": "code",
   "execution_count": 9,
   "metadata": {
    "id": "bmTEogJH7Xb6"
   },
   "outputs": [],
   "source": [
    "df['Text_parsed']=df['headline'].apply(clean)"
   ]
  },
  {
   "cell_type": "code",
   "execution_count": 10,
   "metadata": {
    "colab": {
     "base_uri": "https://localhost:8080/",
     "height": 237
    },
    "id": "Ry4_ROt57Xb6",
    "outputId": "5f604686-eb5e-4d16-9c56-82952103ae0e"
   },
   "outputs": [
    {
     "data": {
      "text/html": [
       "<div>\n",
       "<style scoped>\n",
       "    .dataframe tbody tr th:only-of-type {\n",
       "        vertical-align: middle;\n",
       "    }\n",
       "\n",
       "    .dataframe tbody tr th {\n",
       "        vertical-align: top;\n",
       "    }\n",
       "\n",
       "    .dataframe thead th {\n",
       "        text-align: right;\n",
       "    }\n",
       "</style>\n",
       "<table border=\"1\" class=\"dataframe\">\n",
       "  <thead>\n",
       "    <tr style=\"text-align: right;\">\n",
       "      <th></th>\n",
       "      <th>headline</th>\n",
       "      <th>category</th>\n",
       "      <th>NEWs_length</th>\n",
       "      <th>Text_parsed</th>\n",
       "    </tr>\n",
       "  </thead>\n",
       "  <tbody>\n",
       "    <tr>\n",
       "      <th>0</th>\n",
       "      <td>How Do Industry Experts Evaluate Credit Card R...</td>\n",
       "      <td>2</td>\n",
       "      <td>53</td>\n",
       "      <td>How Do Industry Experts Evaluate Credit Card R...</td>\n",
       "    </tr>\n",
       "    <tr>\n",
       "      <th>1</th>\n",
       "      <td>Ex-49er Dana Stubblefield charged with raping ...</td>\n",
       "      <td>5</td>\n",
       "      <td>83</td>\n",
       "      <td>Ex er Dana Stubblefield charged with raping di...</td>\n",
       "    </tr>\n",
       "    <tr>\n",
       "      <th>2</th>\n",
       "      <td>Chris Hemsworth May Be The Most Swoon-Worthy H...</td>\n",
       "      <td>1</td>\n",
       "      <td>64</td>\n",
       "      <td>Chris Hemsworth May Be The Most Swoon Worthy H...</td>\n",
       "    </tr>\n",
       "    <tr>\n",
       "      <th>3</th>\n",
       "      <td>The Insurrectionists</td>\n",
       "      <td>4</td>\n",
       "      <td>20</td>\n",
       "      <td>The Insurrectionists</td>\n",
       "    </tr>\n",
       "    <tr>\n",
       "      <th>4</th>\n",
       "      <td>Harrison Ford Gives 'Star Wars' Fans The Best ...</td>\n",
       "      <td>1</td>\n",
       "      <td>59</td>\n",
       "      <td>Harrison Ford Gives 'Star Wars' Fans The Best ...</td>\n",
       "    </tr>\n",
       "  </tbody>\n",
       "</table>\n",
       "</div>"
      ],
      "text/plain": [
       "                                            headline  ...                                        Text_parsed\n",
       "0  How Do Industry Experts Evaluate Credit Card R...  ...  How Do Industry Experts Evaluate Credit Card R...\n",
       "1  Ex-49er Dana Stubblefield charged with raping ...  ...  Ex er Dana Stubblefield charged with raping di...\n",
       "2  Chris Hemsworth May Be The Most Swoon-Worthy H...  ...  Chris Hemsworth May Be The Most Swoon Worthy H...\n",
       "3                               The Insurrectionists  ...                               The Insurrectionists\n",
       "4  Harrison Ford Gives 'Star Wars' Fans The Best ...  ...  Harrison Ford Gives 'Star Wars' Fans The Best ...\n",
       "\n",
       "[5 rows x 4 columns]"
      ]
     },
     "execution_count": 10,
     "metadata": {
      "tags": []
     },
     "output_type": "execute_result"
    }
   ],
   "source": [
    "df.head()"
   ]
  },
  {
   "cell_type": "code",
   "execution_count": 11,
   "metadata": {
    "id": "C1nlm__H7Xb6"
   },
   "outputs": [],
   "source": [
    "df=df[['Text_parsed','category']]\n",
    "df=pd.DataFrame(df)"
   ]
  },
  {
   "cell_type": "markdown",
   "metadata": {},
   "source": [
    "### Loading universal sentences encoder"
   ]
  },
  {
   "cell_type": "code",
   "execution_count": 12,
   "metadata": {
    "id": "WlfnjyPD7Xb6"
   },
   "outputs": [],
   "source": [
    "use = hub.load(\"https://tfhub.dev/google/universal-sentence-encoder-multilingual-large/3\")"
   ]
  },
  {
   "cell_type": "code",
   "execution_count": 13,
   "metadata": {
    "id": "zFBHCexM7Xb7"
   },
   "outputs": [],
   "source": [
    "train_size = int(0.7 * len(df))\n",
    "\n"
   ]
  },
  {
   "cell_type": "code",
   "execution_count": 14,
   "metadata": {
    "id": "QaFjA9QV7Xb7"
   },
   "outputs": [],
   "source": [
    "# Split your dataset \n",
    "train = df[:train_size]\n",
    "test = df[train_size:]"
   ]
  },
  {
   "cell_type": "markdown",
   "metadata": {},
   "source": [
    "### Sentences embedding"
   ]
  },
  {
   "cell_type": "code",
   "execution_count": 15,
   "metadata": {
    "colab": {
     "base_uri": "https://localhost:8080/"
    },
    "id": "a-R2rfzG7Xb7",
    "outputId": "69be1ebe-7b5a-46c4-bc16-4f7e64e62d9b"
   },
   "outputs": [
    {
     "name": "stderr",
     "output_type": "stream",
     "text": [
      "100%|██████████| 44179/44179 [33:23<00:00, 22.05it/s]\n",
      "100%|██████████| 18934/18934 [14:09<00:00, 22.28it/s]\n"
     ]
    }
   ],
   "source": [
    "X_train = []\n",
    "for r in tqdm(train.Text_parsed.values):\n",
    "  emb = use(r)\n",
    "  review_emb = tf.reshape(emb, [-1]).numpy()\n",
    "  X_train.append(review_emb)\n",
    "\n",
    "X_train = np.array(X_train)\n",
    "y_train = train.category.values\n",
    "\n",
    "X_test = []\n",
    "for r in tqdm(test.Text_parsed.values):\n",
    "  emb = use(r)\n",
    "  review_emb = tf.reshape(emb, [-1]).numpy()\n",
    "  X_test.append(review_emb)\n",
    "\n",
    "X_test = np.array(X_test)"
   ]
  },
  {
   "cell_type": "markdown",
   "metadata": {},
   "source": [
    "###  Divide the data into training set and testing set for modelling "
   ]
  },
  {
   "cell_type": "code",
   "execution_count": 16,
   "metadata": {
    "id": "0Ad6FaJL7Xb7"
   },
   "outputs": [],
   "source": [
    "train_arrays, test_arrays, train_labels, test_labels = train_test_split(X_train,y_train,test_size=0.05)"
   ]
  },
  {
   "cell_type": "markdown",
   "metadata": {},
   "source": [
    "### SVM Classifier\n",
    "- SVM classifiers do not just find a line (or in high dimensions, a hyperplane) that separates the two classes. They try to find the best line that separates them. The objective of SVM classifiers is to maximize the margin between the positive class and the negative class. This margin is defined as the distance between two Support Vectors, hence the name."
   ]
  },
  {
   "cell_type": "markdown",
   "metadata": {},
   "source": [
    "- We will use a Support Vector Machine, which is a binary classification algorithm and use it with the One-vs-Rest heuristic to perform multi-class classification.\n",
    "\n",
    "### One-vs-Rest\n",
    "- One-vs-rest (OvR for short, also referred to as One-vs-All or OvA) is a heuristic method for using binary classification algorithms for multi-class classification. It involves splitting the multi-class dataset into multiple binary classification problems.\n",
    "\n",
    "<img src=\"data:image/jpeg;base64,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\">"
   ]
  },
  {
   "cell_type": "markdown",
   "metadata": {},
   "source": [
    "### Modelling using Support Vector Machine"
   ]
  },
  {
   "cell_type": "code",
   "execution_count": 17,
   "metadata": {
    "colab": {
     "base_uri": "https://localhost:8080/"
    },
    "id": "zfPmU3QHJ7rz",
    "outputId": "dc32681e-d641-4209-dec5-2cc5260422bc"
   },
   "outputs": [
    {
     "data": {
      "text/plain": [
       "OneVsRestClassifier(estimator=SVC(C=1.0, break_ties=False, cache_size=200,\n",
       "                                  class_weight=None, coef0=0.0,\n",
       "                                  decision_function_shape='ovr', degree=3,\n",
       "                                  gamma='scale', kernel='rbf', max_iter=-1,\n",
       "                                  probability=False, random_state=None,\n",
       "                                  shrinking=True, tol=0.001, verbose=False),\n",
       "                    n_jobs=None)"
      ]
     },
     "execution_count": 17,
     "metadata": {
      "tags": []
     },
     "output_type": "execute_result"
    }
   ],
   "source": [
    "#define model\n",
    "#fit model\n",
    "#use of OneVsRestClassifier for SVM\n",
    "\n",
    "model=OneVsRestClassifier(SVC())\n",
    "model.fit(train_arrays,train_labels)"
   ]
  },
  {
   "cell_type": "markdown",
   "metadata": {},
   "source": [
    "### Check overfitting and underfitting"
   ]
  },
  {
   "cell_type": "code",
   "execution_count": 18,
   "metadata": {
    "colab": {
     "base_uri": "https://localhost:8080/"
    },
    "id": "p_KvpJDo7Xb8",
    "outputId": "e7f79104-5c76-43cb-a40e-469aa4676247"
   },
   "outputs": [
    {
     "data": {
      "text/plain": [
       "0.9471765546819156"
      ]
     },
     "execution_count": 18,
     "metadata": {
      "tags": []
     },
     "output_type": "execute_result"
    }
   ],
   "source": [
    "model.score(train_arrays,train_labels)\n",
    "\n",
    "\n",
    "# traing accuracy--> 94.71%"
   ]
  },
  {
   "cell_type": "code",
   "execution_count": 19,
   "metadata": {
    "colab": {
     "base_uri": "https://localhost:8080/"
    },
    "id": "8oQkxBpWNmM8",
    "outputId": "f47451dd-0705-448a-be8b-a0c915a7e4ba"
   },
   "outputs": [
    {
     "data": {
      "text/plain": [
       "0.8877320054323223"
      ]
     },
     "execution_count": 19,
     "metadata": {
      "tags": []
     },
     "output_type": "execute_result"
    }
   ],
   "source": [
    "model.score(test_arrays,test_labels)\n",
    "\n",
    "\n",
    "#testing accuracy-->88.77%"
   ]
  },
  {
   "cell_type": "code",
   "execution_count": 20,
   "metadata": {
    "id": "Y2voTjpmRSu2"
   },
   "outputs": [],
   "source": [
    "prediction=model.predict(test_arrays)\n",
    "\n"
   ]
  },
  {
   "cell_type": "markdown",
   "metadata": {},
   "source": [
    "#### there is no overfitting and underfitting in model"
   ]
  },
  {
   "cell_type": "markdown",
   "metadata": {},
   "source": [
    "### Predicted result using model"
   ]
  },
  {
   "cell_type": "code",
   "execution_count": 21,
   "metadata": {
    "colab": {
     "base_uri": "https://localhost:8080/"
    },
    "id": "KA96F5m2RdnD",
    "outputId": "2f863927-ffe7-4b13-be76-bbae7706c71c"
   },
   "outputs": [
    {
     "data": {
      "text/plain": [
       "array([4, 1, 1, ..., 4, 1, 4])"
      ]
     },
     "execution_count": 21,
     "metadata": {
      "tags": []
     },
     "output_type": "execute_result"
    }
   ],
   "source": [
    "prediction"
   ]
  },
  {
   "cell_type": "markdown",
   "metadata": {},
   "source": [
    "### - check the accuracy of model \n",
    "### - classification report\n",
    "### - confusion_matrix"
   ]
  },
  {
   "cell_type": "code",
   "execution_count": 22,
   "metadata": {
    "colab": {
     "base_uri": "https://localhost:8080/"
    },
    "id": "qiWYgTCqRnVJ",
    "outputId": "b22ca572-2659-4ad1-c5cb-c1cf7d1f0eda"
   },
   "outputs": [
    {
     "name": "stdout",
     "output_type": "stream",
     "text": [
      "              precision    recall  f1-score   support\n",
      "\n",
      "           0       0.78      0.49      0.60        37\n",
      "           1       0.90      0.91      0.90       492\n",
      "           2       0.79      0.66      0.72       155\n",
      "           3       0.82      0.80      0.81       225\n",
      "           4       0.91      0.95      0.93      1145\n",
      "           5       0.91      0.77      0.84       155\n",
      "\n",
      "    accuracy                           0.89      2209\n",
      "   macro avg       0.85      0.77      0.80      2209\n",
      "weighted avg       0.89      0.89      0.88      2209\n",
      "\n",
      "[[  18    1    1    3   13    1]\n",
      " [   1  448    3    4   30    6]\n",
      " [   0    8  103   15   29    0]\n",
      " [   2    8    9  181   23    2]\n",
      " [   2   17   15   17 1091    3]\n",
      " [   0   17    0    0   18  120]]\n"
     ]
    }
   ],
   "source": [
    "from sklearn import metrics\n",
    "from sklearn.metrics import accuracy_score\n",
    "import numpy as np\n",
    "\n",
    "\n",
    "print(metrics.classification_report(test_labels,prediction))\n",
    "confusion_matrix=metrics.confusion_matrix(test_labels,prediction)\n",
    "print(confusion_matrix)"
   ]
  },
  {
   "cell_type": "code",
   "execution_count": 23,
   "metadata": {
    "colab": {
     "base_uri": "https://localhost:8080/"
    },
    "id": "POxc4a9ZTnkc",
    "outputId": "0dedf492-961e-459c-bc06-8bbbef31f670"
   },
   "outputs": [
    {
     "data": {
      "text/plain": [
       "0.8877320054323223"
      ]
     },
     "execution_count": 23,
     "metadata": {
      "tags": []
     },
     "output_type": "execute_result"
    }
   ],
   "source": [
    "\n",
    "accuracy = accuracy_score(test_labels,prediction)\n",
    "accuracy\n"
   ]
  },
  {
   "cell_type": "markdown",
   "metadata": {
    "id": "mBamlo7AUE35"
   },
   "source": [
    "\n",
    "### SVM  Model gives 88.77% Accurate result for new training example"
   ]
  },
  {
   "cell_type": "code",
   "execution_count": null,
   "metadata": {},
   "outputs": [],
   "source": []
  }
 ],
 "metadata": {
  "colab": {
   "collapsed_sections": [],
   "name": "SVM.ipynb",
   "provenance": []
  },
  "kernelspec": {
   "display_name": "Python 3",
   "language": "python",
   "name": "python3"
  },
  "language_info": {
   "codemirror_mode": {
    "name": "ipython",
    "version": 3
   },
   "file_extension": ".py",
   "mimetype": "text/x-python",
   "name": "python",
   "nbconvert_exporter": "python",
   "pygments_lexer": "ipython3",
   "version": "3.8.5"
  }
 },
 "nbformat": 4,
 "nbformat_minor": 1
}
